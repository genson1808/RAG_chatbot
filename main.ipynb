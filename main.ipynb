{
 "cells": [
  {
   "cell_type": "code",
   "execution_count": 1,
   "metadata": {},
   "outputs": [
    {
     "name": "stderr",
     "output_type": "stream",
     "text": [
      "/Users/genson1808/workspace/ai/rag_advanced/RAG-chat-with-documents/.venv/lib/python3.12/site-packages/tqdm/auto.py:21: TqdmWarning: IProgress not found. Please update jupyter and ipywidgets. See https://ipywidgets.readthedocs.io/en/stable/user_install.html\n",
      "  from .autonotebook import tqdm as notebook_tqdm\n"
     ]
    }
   ],
   "source": [
    "import os\n",
    "import getpass\n",
    "from langchain_core.messages import HumanMessage\n",
    "from langgraph.graph import MessagesState, StateGraph, START, END\n",
    "from langgraph.prebuilt import create_react_agent\n",
    "from qdrant_client import QdrantClient\n",
    "from dotenv import load_dotenv\n",
    "from langchain.prompts import PromptTemplate\n",
    "from langchain.chains import RetrievalQA\n",
    "from langchain_community.document_compressors import JinaRerank\n",
    "from langchain.retrievers import ContextualCompressionRetriever\n",
    "from langchain.vectorstores import Qdrant\n",
    "from langchain.embeddings import FastEmbedEmbeddings\n",
    "from langchain.chains import RetrievalQA\n",
    "from typing import *\n",
    "\n",
    "from src.base.llm import SingletonChatLLM"
   ]
  },
  {
   "cell_type": "code",
   "execution_count": 2,
   "metadata": {},
   "outputs": [],
   "source": [
    "# %pip install langgraph\n",
    "# %pip install jina"
   ]
  },
  {
   "cell_type": "code",
   "execution_count": 3,
   "metadata": {},
   "outputs": [],
   "source": [
    "# Load environment variables\n",
    "load_dotenv()\n",
    "GROQ_API_KEY = os.getenv(\"GROQ_API_KEY\")\n",
    "QDRANT_URL = os.getenv(\"QDRANT_URL\")\n",
    "QDRANT_API_KEY = os.getenv(\"QDRANT_API_KEY\")\n",
    "os.environ[\"JINA_API_KEY\"] = os.getenv(\"JINA_API_KEY\")\n"
   ]
  },
  {
   "cell_type": "code",
   "execution_count": 4,
   "metadata": {},
   "outputs": [],
   "source": [
    "from langgraph.checkpoint.memory import MemorySaver"
   ]
  },
  {
   "cell_type": "code",
   "execution_count": 5,
   "metadata": {},
   "outputs": [],
   "source": [
    "# Hàm trích xuất loại tin nhắn và nội dung\n",
    "def extract_message_types_and_content(messages: List):\n",
    "    for message in messages:\n",
    "        message_type = type(message).__name__\n",
    "        content = message.content\n",
    "        print(f\"{message_type}: {content}\")"
   ]
  },
  {
   "cell_type": "code",
   "execution_count": 6,
   "metadata": {},
   "outputs": [],
   "source": [
    "from langgraph.graph import MessagesState\n",
    "from typing import Literal\n",
    "from typing_extensions import TypedDict\n",
    "\n",
    "# The agent state is the input to each node in the graph\n",
    "class AgentState(MessagesState):\n",
    "    # The 'next' field indicates where to route to next\n",
    "    messages: list  # Store the conversation history\n",
    "    next: str\n",
    "\n",
    "\n",
    "chat_model = SingletonChatLLM(llm_name='CHAT_GROQ').get_llm()\n",
    "\n",
    "# Định nghĩa các agent cần thiết\n",
    "members = [\"lt4670_assistant\", \"lv4830_assistant\", \"NDI_checker_assistant\", \"customer_care\"]\n",
    "\n",
    "options = members + [\"FINISH\"]\n",
    "\n",
    "class Router(TypedDict):\n",
    "    \"\"\"Worker to route to next. If no workers needed, route to FINISH.\"\"\"\n",
    "\n",
    "    next: Literal[*options]\n",
    "\n",
    "system_prompt = (\n",
    "    # \"You are a supervisor tasked with managing a conversation between the\"\n",
    "    # f\" following workers: {members}. Given the following user request,\"\n",
    "    # \" respond with the worker to act next. Each worker will perform a\"\n",
    "    # \" task and respond with their results and status. When finished,\"\n",
    "    # \" respond with FINISH.\"\n",
    "    \"You are a routing supervisor. Based on the user's current input and conversation history, \"\n",
    "    \"route the input to one of the following agents:\\n\"\n",
    "    \"- 'lt4670_assistant': For questions about the LT4670 monitor.\\n\"\n",
    "    \"- 'lv4830_assistant': For questions about the LV4830 monitor.\\n\"\n",
    "    \"- 'NDI_checker_assistant': For questions about the NDI Checker or NDI protocol.\\n\"\n",
    "    \"- 'customer_care': For general inquiries or unrelated questions.\\n\\n\"\n",
    "    \"If the input is ambiguous, use history to determine the best route. If still unsure, route to 'customer_care'.\"\n",
    "\n",
    "    # \"You are a supervisor tasked with managing a conversation between the\"\n",
    "    # f\" following workers: {members}. Based on the user request:\"\n",
    "    # \"\\n- If the request contains 'lt4670', route to 'product1_assistant'.\"\n",
    "    # \"\\n- If the request contains 'bc289', route to 'product2_assistant'.\"\n",
    "    # \"\\n- Otherwise, route to 'customer_care'.\"\n",
    "    # \"\\nEach worker will perform a task and respond with their results and status.\"\n",
    "    # \" When finished, respond with 'FINISH'.\"\n",
    ")\n",
    "\n",
    "# Define the supervisor node and agent states\n",
    "def supervisor_node(state: AgentState) -> AgentState:\n",
    "    # print(state[\"messages\"])\n",
    "    extract_message_types_and_content(state[\"messages\"])\n",
    "    messages = [{\"role\": \"system\", \"content\": system_prompt}] + state[\"messages\"]\n",
    "    response = chat_model.with_structured_output(Router).invoke(messages)\n",
    "    next_ = response[\"next\"]\n",
    "    if next_ == \"FINISH\":\n",
    "        next_ = END\n",
    "    return {\"next\": next_}\n",
    "\n",
    "\n"
   ]
  },
  {
   "cell_type": "code",
   "execution_count": 7,
   "metadata": {},
   "outputs": [],
   "source": [
    "custom_prompt_template = \"\"\"You are a helpful assistant, You must use japanese to answer the question, conversing with a user about the subjects contained in a set of documents.\n",
    "Use the information from the DOCUMENTS section to provide accurate answers. If unsure or if the answer\n",
    "isn't found in the DOCUMENTS section, simply state that you don't know the answer.\n",
    "\n",
    "Documents:\n",
    "{context}\n",
    "\n",
    "Question:\n",
    "{question}\n",
    "\n",
    "Answer:\n",
    "\"\"\"\n",
    "\n",
    "def set_custom_prompt():\n",
    "    \"\"\"\n",
    "    Prompt template for QA retrieval for each vectorstore\n",
    "    \"\"\"\n",
    "    prompt = PromptTemplate(template=custom_prompt_template,\n",
    "                            input_variables=['context', 'question'])\n",
    "    return prompt"
   ]
  },
  {
   "cell_type": "code",
   "execution_count": 8,
   "metadata": {},
   "outputs": [
    {
     "name": "stderr",
     "output_type": "stream",
     "text": [
      "Fetching 5 files: 100%|██████████| 5/5 [00:00<00:00, 76818.75it/s]\n",
      "/var/folders/jz/yzdjtm5x47l3dgzz8v9132mh0000gn/T/ipykernel_3172/2787988734.py:25: LangChainDeprecationWarning: The class `Qdrant` was deprecated in LangChain 0.0.37 and will be removed in 1.0. An updated version of the class exists in the :class:`~langchain-qdrant package and should be used instead. To use it run `pip install -U :class:`~langchain-qdrant` and import as `from :class:`~langchain_qdrant import Qdrant``.\n",
      "  vectorstore = Qdrant(client=client, embeddings=embeddings, collection_name=\"rag2\")\n"
     ]
    }
   ],
   "source": [
    "client = QdrantClient(api_key=QDRANT_API_KEY, url=QDRANT_URL,)\n",
    "\n",
    "from langchain_community.document_compressors import JinaRerank\n",
    "from langchain.retrievers import ContextualCompressionRetriever\n",
    "\n",
    "os.environ[\"JINA_API_KEY\"] = os.getenv(\"JINA_API_KEY\")\n",
    "def retrieval_qa_chain(llm, prompt, vectorstore):\n",
    "    retriever = vectorstore.as_retriever(search_kwargs={'k': 2})\n",
    "    compressor = JinaRerank()\n",
    "    compression_retriever = ContextualCompressionRetriever(\n",
    "        base_compressor=compressor, base_retriever=retriever\n",
    "    )\n",
    "    qa_chain = RetrievalQA.from_chain_type(\n",
    "        llm=llm,\n",
    "        chain_type=\"stuff\",\n",
    "        retriever=compression_retriever,\n",
    "        return_source_documents=True,\n",
    "        chain_type_kwargs={'prompt': prompt}\n",
    "    )\n",
    "    return qa_chain\n",
    "\n",
    "\n",
    "def qa_bot():\n",
    "    embeddings = FastEmbedEmbeddings()\n",
    "    vectorstore = Qdrant(client=client, embeddings=embeddings, collection_name=\"rag2\")\n",
    "    llm = chat_model\n",
    "    qa_prompt=set_custom_prompt()\n",
    "    qa = retrieval_qa_chain(llm, qa_prompt, vectorstore)\n",
    "    return qa\n",
    "\n",
    "qa = qa_bot()"
   ]
  },
  {
   "cell_type": "code",
   "execution_count": 9,
   "metadata": {},
   "outputs": [],
   "source": [
    "# Define the QA agent nodes\n",
    "def lt4670_agent_node(state: AgentState) -> AgentState:\n",
    "    user_input = state[\"messages\"][-1].content\n",
    "\n",
    "    response = f\"messages: {user_input} - agent: LT4670_agent\"\n",
    "    return {\n",
    "        \"messages\": [{\"role\": \"assistant\",\"content\": response, \"name\": \"LT4670\"}]\n",
    "    }"
   ]
  },
  {
   "cell_type": "code",
   "execution_count": 10,
   "metadata": {},
   "outputs": [],
   "source": [
    "def lv4830_agent_node(state: AgentState) -> AgentState:\n",
    "    user_input = state[\"messages\"][-1].content\n",
    "\n",
    "    response = f\"messages: {user_input} - agent: LV4830_agent\"\n",
    "    return {\n",
    "        \"messages\": [{\"role\": \"assistant\",\"content\": response, \"name\": \"LV4830\"}]\n",
    "    }"
   ]
  },
  {
   "cell_type": "code",
   "execution_count": 11,
   "metadata": {},
   "outputs": [],
   "source": [
    "def ndi_checker_agent_node(state: AgentState) -> AgentState:\n",
    "    user_input = state[\"messages\"][-1].content\n",
    "\n",
    "    response = f\"messages: {user_input} - agent: ndi_checker_agent\"\n",
    "    return {\n",
    "        \"messages\": [{\"role\": \"assistant\",\"content\": response, \"name\": \"ndi_checker\"}]\n",
    "    }"
   ]
  },
  {
   "cell_type": "code",
   "execution_count": 12,
   "metadata": {},
   "outputs": [],
   "source": [
    "def customer_care_agent_node(state: AgentState) -> AgentState:\n",
    "    user_input = state[\"messages\"][-1].content\n",
    "\n",
    "    response = f\"messages: {user_input} - agent: customer_care_agent\"\n",
    "    return {\n",
    "        \"messages\": [{\"role\": \"assistant\",\"content\": response, \"name\": \"customer_care\"}]\n",
    "    }"
   ]
  },
  {
   "cell_type": "code",
   "execution_count": 13,
   "metadata": {},
   "outputs": [],
   "source": [
    "# Setup the agent state graph and add conditional edges\n",
    "# members = [\"lt4670_assistant\", \"lv4830_assistant\", \"NDI_checker_assistant\", \"customer_care\"]\n",
    "builder = StateGraph(MessagesState)\n",
    "builder.add_edge(START, \"supervisor\")\n",
    "builder.add_node(\"supervisor\", supervisor_node)\n",
    "builder.add_node(\"lt4670_assistant\", lt4670_agent_node)\n",
    "builder.add_node(\"lv4830_assistant\", lv4830_agent_node)\n",
    "builder.add_node(\"NDI_checker_assistant\", ndi_checker_agent_node)\n",
    "builder.add_node(\"customer_care\", customer_care_agent_node)\n",
    "\n",
    "builder.add_edge(\"lt4670_assistant\", \"__end__\")\n",
    "builder.add_edge(\"lv4830_assistant\", \"__end__\")\n",
    "builder.add_edge(\"NDI_checker_assistant\", \"__end__\")\n",
    "builder.add_edge(\"customer_care\", \"__end__\")\n",
    "\n",
    "# for member in members:\n",
    "#     builder.add_edge(member, \"supervisor\")\n",
    "\n",
    "builder.add_conditional_edges(\"supervisor\", lambda state: state[\"next\"])\n",
    "checkpointer = MemorySaver()\n",
    "# Compile the graph and execute it\n",
    "graph = builder.compile(checkpointer=checkpointer)\n",
    "\n",
    "config = {'configurable': {'thread_id': '1'}}"
   ]
  },
  {
   "cell_type": "code",
   "execution_count": 14,
   "metadata": {},
   "outputs": [
    {
     "data": {
      "image/png": "[encoded data removed]",
      "text/plain": [
       "<IPython.core.display.Image object>"
      ]
     },
     "metadata": {},
     "output_type": "display_data"
    }
   ],
   "source": [
    "from IPython.display import Image, display\n",
    "from langchain_core.runnables.graph import CurveStyle, MermaidDrawMethod, NodeStyles\n",
    "\n",
    "display(\n",
    "    Image(\n",
    "        graph.get_graph().draw_mermaid_png(\n",
    "            draw_method=MermaidDrawMethod.API,\n",
    "        )\n",
    "    )\n",
    ")"
   ]
  },
  {
   "cell_type": "code",
   "execution_count": 15,
   "metadata": {},
   "outputs": [
    {
     "name": "stdout",
     "output_type": "stream",
     "text": [
      "HumanMessage: how to configure display on lt4670\n",
      "messages: how to configure display on lt4670 - agent: LT4670_agent\n",
      "HumanMessage: how to configure display on lt4670\n",
      "AIMessage: messages: how to configure display on lt4670 - agent: LT4670_agent\n",
      "HumanMessage: how to configure hdr\n",
      "messages: how to configure hdr - agent: LT4670_agent\n"
     ]
    }
   ],
   "source": [
    "\n",
    "response = graph.invoke(\n",
    "    {\"messages\":\n",
    "     [HumanMessage(content=\"how to configure display on lt4670\")]}, config)\n",
    "print(response[\"messages\"][-1].content)\n",
    "response = graph.invoke(\n",
    "    {\"messages\":\n",
    "     [HumanMessage(content=\"how to configure hdr\")]}, config)\n",
    "print(response[\"messages\"][-1].content)"
   ]
  },
  {
   "cell_type": "code",
   "execution_count": 16,
   "metadata": {},
   "outputs": [
    {
     "name": "stdout",
     "output_type": "stream",
     "text": [
      "HumanMessage: how to configure display on lt4670\n",
      "AIMessage: messages: how to configure display on lt4670 - agent: LT4670_agent\n",
      "HumanMessage: how to configure hdr\n",
      "AIMessage: messages: how to configure hdr - agent: LT4670_agent\n",
      "HumanMessage: how to configure hdr\n",
      "-------------answer-------------\n",
      "messages: how to configure hdr - agent: LT4670_agent\n",
      "HumanMessage: how to configure display on lt4670\n",
      "AIMessage: messages: how to configure display on lt4670 - agent: LT4670_agent\n",
      "HumanMessage: how to configure hdr\n",
      "AIMessage: messages: how to configure hdr - agent: LT4670_agent\n",
      "HumanMessage: how to configure hdr\n",
      "AIMessage: messages: how to configure hdr - agent: LT4670_agent\n",
      "HumanMessage: how to configure volume\n",
      "-------------answer-------------\n",
      "messages: how to configure volume - agent: LT4670_agent\n"
     ]
    }
   ],
   "source": [
    "response = graph.invoke(\n",
    "    {\"messages\":\n",
    "     [HumanMessage(content=\"how to configure hdr\")]}, config)\n",
    "print(\"-------------answer-------------\")\n",
    "print(response[\"messages\"][-1].content)\n",
    "\n",
    "response = graph.invoke(\n",
    "    {\"messages\":\n",
    "     [HumanMessage(content=\"how to configure volume\")]}, config)\n",
    "print(\"-------------answer-------------\")\n",
    "print(response[\"messages\"][-1].content)"
   ]
  },
  {
   "cell_type": "code",
   "execution_count": 17,
   "metadata": {},
   "outputs": [
    {
     "name": "stdout",
     "output_type": "stream",
     "text": [
      "HumanMessage: how to configure display on lt4670\n",
      "AIMessage: messages: how to configure display on lt4670 - agent: LT4670_agent\n",
      "HumanMessage: how to configure hdr\n",
      "AIMessage: messages: how to configure hdr - agent: LT4670_agent\n",
      "HumanMessage: how to configure hdr\n",
      "AIMessage: messages: how to configure hdr - agent: LT4670_agent\n",
      "HumanMessage: how to configure volume\n",
      "AIMessage: messages: how to configure volume - agent: LT4670_agent\n",
      "HumanMessage: how to configure hdr\n",
      "-------------answer-------------\n",
      "messages: how to configure hdr - agent: LT4670_agent\n"
     ]
    }
   ],
   "source": [
    "response = graph.invoke(\n",
    "    {\"messages\":\n",
    "     [HumanMessage(content=\"how to configure hdr\")]}, config)\n",
    "print(\"-------------answer-------------\")\n",
    "print(response[\"messages\"][-1].content)"
   ]
  },
  {
   "cell_type": "code",
   "execution_count": 18,
   "metadata": {},
   "outputs": [
    {
     "name": "stdout",
     "output_type": "stream",
     "text": [
      "HumanMessage: how to configure display on lt4670\n",
      "AIMessage: messages: how to configure display on lt4670 - agent: LT4670_agent\n",
      "HumanMessage: how to configure hdr\n",
      "AIMessage: messages: how to configure hdr - agent: LT4670_agent\n",
      "HumanMessage: how to configure hdr\n",
      "AIMessage: messages: how to configure hdr - agent: LT4670_agent\n",
      "HumanMessage: how to configure volume\n",
      "AIMessage: messages: how to configure volume - agent: LT4670_agent\n",
      "HumanMessage: how to configure hdr\n",
      "AIMessage: messages: how to configure hdr - agent: LT4670_agent\n",
      "HumanMessage: contract of company\n",
      "-------------answer-------------\n",
      "messages: contract of company - agent: customer_care_agent\n"
     ]
    }
   ],
   "source": [
    "response = graph.invoke(\n",
    "    {\"messages\":\n",
    "     [HumanMessage(content=\"contract of company\")]}, config)\n",
    "print(\"-------------answer-------------\")\n",
    "print(response[\"messages\"][-1].content)"
   ]
  },
  {
   "cell_type": "code",
   "execution_count": 19,
   "metadata": {},
   "outputs": [
    {
     "name": "stdout",
     "output_type": "stream",
     "text": [
      "HumanMessage: how to configure display on lt4670\n",
      "AIMessage: messages: how to configure display on lt4670 - agent: LT4670_agent\n",
      "HumanMessage: how to configure hdr\n",
      "AIMessage: messages: how to configure hdr - agent: LT4670_agent\n",
      "HumanMessage: how to configure hdr\n",
      "AIMessage: messages: how to configure hdr - agent: LT4670_agent\n",
      "HumanMessage: how to configure volume\n",
      "AIMessage: messages: how to configure volume - agent: LT4670_agent\n",
      "HumanMessage: how to configure hdr\n",
      "AIMessage: messages: how to configure hdr - agent: LT4670_agent\n",
      "HumanMessage: contract of company\n",
      "AIMessage: messages: contract of company - agent: customer_care_agent\n",
      "HumanMessage: What is NDI checker\n",
      "-------------answer-------------\n",
      "messages: What is NDI checker - agent: ndi_checker_agent\n"
     ]
    }
   ],
   "source": [
    "response = graph.invoke(\n",
    "    {\"messages\":\n",
    "     [HumanMessage(content=\"What is NDI checker\")]}, config)\n",
    "print(\"-------------answer-------------\")\n",
    "print(response[\"messages\"][-1].content)"
   ]
  },
  {
   "cell_type": "code",
   "execution_count": 20,
   "metadata": {},
   "outputs": [
    {
     "name": "stdout",
     "output_type": "stream",
     "text": [
      "Requirement already satisfied: langserve in ./.venv/lib/python3.12/site-packages (0.3.0)\n",
      "Requirement already satisfied: httpx<1.0,>=0.23.0 in ./.venv/lib/python3.12/site-packages (from langserve) (0.27.2)\n",
      "Requirement already satisfied: langchain-core<0.4,>=0.3 in ./.venv/lib/python3.12/site-packages (from langserve) (0.3.19)\n",
      "Requirement already satisfied: orjson<4,>=2 in ./.venv/lib/python3.12/site-packages (from langserve) (3.10.11)\n",
      "Requirement already satisfied: pydantic<3.0,>=2.7 in ./.venv/lib/python3.12/site-packages (from langserve) (2.9.2)\n",
      "Requirement already satisfied: anyio in ./.venv/lib/python3.12/site-packages (from httpx<1.0,>=0.23.0->langserve) (4.6.2.post1)\n",
      "Requirement already satisfied: certifi in ./.venv/lib/python3.12/site-packages (from httpx<1.0,>=0.23.0->langserve) (2024.8.30)\n",
      "Requirement already satisfied: httpcore==1.* in ./.venv/lib/python3.12/site-packages (from httpx<1.0,>=0.23.0->langserve) (1.0.6)\n",
      "Requirement already satisfied: idna in ./.venv/lib/python3.12/site-packages (from httpx<1.0,>=0.23.0->langserve) (3.10)\n",
      "Requirement already satisfied: sniffio in ./.venv/lib/python3.12/site-packages (from httpx<1.0,>=0.23.0->langserve) (1.3.1)\n",
      "Requirement already satisfied: h11<0.15,>=0.13 in ./.venv/lib/python3.12/site-packages (from httpcore==1.*->httpx<1.0,>=0.23.0->langserve) (0.14.0)\n",
      "Requirement already satisfied: PyYAML>=5.3 in ./.venv/lib/python3.12/site-packages (from langchain-core<0.4,>=0.3->langserve) (6.0.2)\n",
      "Requirement already satisfied: jsonpatch<2.0,>=1.33 in ./.venv/lib/python3.12/site-packages (from langchain-core<0.4,>=0.3->langserve) (1.33)\n",
      "Requirement already satisfied: langsmith<0.2.0,>=0.1.125 in ./.venv/lib/python3.12/site-packages (from langchain-core<0.4,>=0.3->langserve) (0.1.142)\n",
      "Requirement already satisfied: packaging<25,>=23.2 in ./.venv/lib/python3.12/site-packages (from langchain-core<0.4,>=0.3->langserve) (23.2)\n",
      "Requirement already satisfied: tenacity!=8.4.0,<10.0.0,>=8.1.0 in ./.venv/lib/python3.12/site-packages (from langchain-core<0.4,>=0.3->langserve) (8.5.0)\n",
      "Requirement already satisfied: typing-extensions>=4.7 in ./.venv/lib/python3.12/site-packages (from langchain-core<0.4,>=0.3->langserve) (4.12.2)\n",
      "Requirement already satisfied: annotated-types>=0.6.0 in ./.venv/lib/python3.12/site-packages (from pydantic<3.0,>=2.7->langserve) (0.7.0)\n",
      "Requirement already satisfied: pydantic-core==2.23.4 in ./.venv/lib/python3.12/site-packages (from pydantic<3.0,>=2.7->langserve) (2.23.4)\n",
      "Requirement already satisfied: jsonpointer>=1.9 in ./.venv/lib/python3.12/site-packages (from jsonpatch<2.0,>=1.33->langchain-core<0.4,>=0.3->langserve) (3.0.0)\n",
      "Requirement already satisfied: requests<3,>=2 in ./.venv/lib/python3.12/site-packages (from langsmith<0.2.0,>=0.1.125->langchain-core<0.4,>=0.3->langserve) (2.32.3)\n",
      "Requirement already satisfied: requests-toolbelt<2.0.0,>=1.0.0 in ./.venv/lib/python3.12/site-packages (from langsmith<0.2.0,>=0.1.125->langchain-core<0.4,>=0.3->langserve) (1.0.0)\n",
      "Requirement already satisfied: charset-normalizer<4,>=2 in ./.venv/lib/python3.12/site-packages (from requests<3,>=2->langsmith<0.2.0,>=0.1.125->langchain-core<0.4,>=0.3->langserve) (3.4.0)\n",
      "Requirement already satisfied: urllib3<3,>=1.21.1 in ./.venv/lib/python3.12/site-packages (from requests<3,>=2->langsmith<0.2.0,>=0.1.125->langchain-core<0.4,>=0.3->langserve) (2.2.3)\n",
      "Note: you may need to restart the kernel to use updated packages.\n"
     ]
    }
   ],
   "source": [
    "%pip install langserve"
   ]
  },
  {
   "cell_type": "code",
   "execution_count": 21,
   "metadata": {},
   "outputs": [
    {
     "name": "stdout",
     "output_type": "stream",
     "text": [
      "Requirement already satisfied: pip in ./.venv/lib/python3.12/site-packages (24.3.1)\n",
      "Note: you may need to restart the kernel to use updated packages.\n"
     ]
    }
   ],
   "source": [
    "%pip install --upgrade pip"
   ]
  },
  {
   "cell_type": "code",
   "execution_count": 22,
   "metadata": {},
   "outputs": [
    {
     "name": "stdout",
     "output_type": "stream",
     "text": [
      "Requirement already satisfied: sse_starlette in ./.venv/lib/python3.12/site-packages (2.1.3)\n",
      "Requirement already satisfied: starlette in ./.venv/lib/python3.12/site-packages (from sse_starlette) (0.41.2)\n",
      "Requirement already satisfied: uvicorn in ./.venv/lib/python3.12/site-packages (from sse_starlette) (0.25.0)\n",
      "Requirement already satisfied: anyio in ./.venv/lib/python3.12/site-packages (from sse_starlette) (4.6.2.post1)\n",
      "Requirement already satisfied: idna>=2.8 in ./.venv/lib/python3.12/site-packages (from anyio->sse_starlette) (3.10)\n",
      "Requirement already satisfied: sniffio>=1.1 in ./.venv/lib/python3.12/site-packages (from anyio->sse_starlette) (1.3.1)\n",
      "Requirement already satisfied: click>=7.0 in ./.venv/lib/python3.12/site-packages (from uvicorn->sse_starlette) (8.1.7)\n",
      "Requirement already satisfied: h11>=0.8 in ./.venv/lib/python3.12/site-packages (from uvicorn->sse_starlette) (0.14.0)\n",
      "Note: you may need to restart the kernel to use updated packages.\n"
     ]
    }
   ],
   "source": [
    "%pip install  sse_starlette"
   ]
  },
  {
   "cell_type": "code",
   "execution_count": 24,
   "metadata": {},
   "outputs": [],
   "source": [
    "from fastapi import FastAPI\n",
    "from typing_extensions import TypedDict\n",
    "\n",
    "from langchain_core.runnables import RunnableLambda\n",
    "from langserve import add_routes\n",
    "\n",
    "def inp(question: str) -> dict:\n",
    "    return {\"question\": question}\n",
    "\n",
    "\n",
    "def out(state: dict):\n",
    "    result = state[1][\"generate\"][\"generation\"]  # 0: retrieve, 1: generate\n",
    "    return result\n",
    "\n",
    "final_chain = RunnableLambda(inp) | graph | RunnableLambda(out)\n",
    "\n",
    "fastapi_app = FastAPI(  # Initialize FastAPI app\n",
    "    title=\"PDF Q&A bot\",\n",
    "    version=\"0.1\",\n",
    "    description=\"PDF Q&A Chatbot Server with Langgraph + Langserve\",\n",
    ")\n",
    "add_routes(fastapi_app, final_chain)\n",
    "\n"
   ]
  },
  {
   "cell_type": "code",
   "execution_count": 26,
   "metadata": {},
   "outputs": [
    {
     "name": "stderr",
     "output_type": "stream",
     "text": [
      "/Users/genson1808/workspace/ai/rag_advanced/RAG-chat-with-documents/.venv/lib/python3.12/site-packages/pygments/regexopt.py:77: RuntimeWarning: coroutine 'Server.serve' was never awaited\n",
      "  '|'.join(regex_opt_inner(list(group[1]), '')\n",
      "RuntimeWarning: Enable tracemalloc to get the object allocation traceback\n"
     ]
    },
    {
     "ename": "RuntimeError",
     "evalue": "asyncio.run() cannot be called from a running event loop",
     "output_type": "error",
     "traceback": [
      "\u001b[0;31m---------------------------------------------------------------------------\u001b[0m",
      "\u001b[0;31mRuntimeError\u001b[0m                              Traceback (most recent call last)",
      "Cell \u001b[0;32mIn[26], line 4\u001b[0m\n\u001b[1;32m      1\u001b[0m \u001b[38;5;28;01mimport\u001b[39;00m \u001b[38;5;21;01muvicorn\u001b[39;00m\n\u001b[1;32m      2\u001b[0m \u001b[38;5;28;01mimport\u001b[39;00m \u001b[38;5;21;01masyncio\u001b[39;00m\n\u001b[0;32m----> 4\u001b[0m asyncio\u001b[38;5;241m.\u001b[39mrun(\u001b[43muvicorn\u001b[49m\u001b[38;5;241;43m.\u001b[39;49m\u001b[43mrun\u001b[49m\u001b[43m(\u001b[49m\u001b[43mfastapi_app\u001b[49m\u001b[43m,\u001b[49m\u001b[43m \u001b[49m\u001b[43mhost\u001b[49m\u001b[38;5;241;43m=\u001b[39;49m\u001b[38;5;124;43m\"\u001b[39;49m\u001b[38;5;124;43m0.0.0.0\u001b[39;49m\u001b[38;5;124;43m\"\u001b[39;49m\u001b[43m,\u001b[49m\u001b[43m \u001b[49m\u001b[43mport\u001b[49m\u001b[38;5;241;43m=\u001b[39;49m\u001b[38;5;241;43m5000\u001b[39;49m\u001b[43m)\u001b[49m)\n\u001b[1;32m      5\u001b[0m \u001b[38;5;66;03m# uvicorn.run(fastapi_app, host=\"0.0.0.0\", port=5000)\u001b[39;00m\n",
      "File \u001b[0;32m~/workspace/ai/rag_advanced/RAG-chat-with-documents/.venv/lib/python3.12/site-packages/uvicorn/main.py:587\u001b[0m, in \u001b[0;36mrun\u001b[0;34m(app, host, port, uds, fd, loop, http, ws, ws_max_size, ws_max_queue, ws_ping_interval, ws_ping_timeout, ws_per_message_deflate, lifespan, interface, reload, reload_dirs, reload_includes, reload_excludes, reload_delay, workers, env_file, log_config, log_level, access_log, proxy_headers, server_header, date_header, forwarded_allow_ips, root_path, limit_concurrency, backlog, limit_max_requests, timeout_keep_alive, timeout_graceful_shutdown, ssl_keyfile, ssl_certfile, ssl_keyfile_password, ssl_version, ssl_cert_reqs, ssl_ca_certs, ssl_ciphers, headers, use_colors, app_dir, factory, h11_max_incomplete_event_size)\u001b[0m\n\u001b[1;32m    585\u001b[0m     Multiprocess(config, target\u001b[38;5;241m=\u001b[39mserver\u001b[38;5;241m.\u001b[39mrun, sockets\u001b[38;5;241m=\u001b[39m[sock])\u001b[38;5;241m.\u001b[39mrun()\n\u001b[1;32m    586\u001b[0m \u001b[38;5;28;01melse\u001b[39;00m:\n\u001b[0;32m--> 587\u001b[0m     \u001b[43mserver\u001b[49m\u001b[38;5;241;43m.\u001b[39;49m\u001b[43mrun\u001b[49m\u001b[43m(\u001b[49m\u001b[43m)\u001b[49m\n\u001b[1;32m    588\u001b[0m \u001b[38;5;28;01mif\u001b[39;00m config\u001b[38;5;241m.\u001b[39muds \u001b[38;5;129;01mand\u001b[39;00m os\u001b[38;5;241m.\u001b[39mpath\u001b[38;5;241m.\u001b[39mexists(config\u001b[38;5;241m.\u001b[39muds):\n\u001b[1;32m    589\u001b[0m     os\u001b[38;5;241m.\u001b[39mremove(config\u001b[38;5;241m.\u001b[39muds)  \u001b[38;5;66;03m# pragma: py-win32\u001b[39;00m\n",
      "File \u001b[0;32m~/workspace/ai/rag_advanced/RAG-chat-with-documents/.venv/lib/python3.12/site-packages/uvicorn/server.py:61\u001b[0m, in \u001b[0;36mServer.run\u001b[0;34m(self, sockets)\u001b[0m\n\u001b[1;32m     59\u001b[0m \u001b[38;5;28;01mdef\u001b[39;00m \u001b[38;5;21mrun\u001b[39m(\u001b[38;5;28mself\u001b[39m, sockets: Optional[List[socket\u001b[38;5;241m.\u001b[39msocket]] \u001b[38;5;241m=\u001b[39m \u001b[38;5;28;01mNone\u001b[39;00m) \u001b[38;5;241m-\u001b[39m\u001b[38;5;241m>\u001b[39m \u001b[38;5;28;01mNone\u001b[39;00m:\n\u001b[1;32m     60\u001b[0m     \u001b[38;5;28mself\u001b[39m\u001b[38;5;241m.\u001b[39mconfig\u001b[38;5;241m.\u001b[39msetup_event_loop()\n\u001b[0;32m---> 61\u001b[0m     \u001b[38;5;28;01mreturn\u001b[39;00m \u001b[43masyncio\u001b[49m\u001b[38;5;241;43m.\u001b[39;49m\u001b[43mrun\u001b[49m\u001b[43m(\u001b[49m\u001b[38;5;28;43mself\u001b[39;49m\u001b[38;5;241;43m.\u001b[39;49m\u001b[43mserve\u001b[49m\u001b[43m(\u001b[49m\u001b[43msockets\u001b[49m\u001b[38;5;241;43m=\u001b[39;49m\u001b[43msockets\u001b[49m\u001b[43m)\u001b[49m\u001b[43m)\u001b[49m\n",
      "File \u001b[0;32m/opt/anaconda3/lib/python3.12/asyncio/runners.py:190\u001b[0m, in \u001b[0;36mrun\u001b[0;34m(main, debug, loop_factory)\u001b[0m\n\u001b[1;32m    161\u001b[0m \u001b[38;5;250m\u001b[39m\u001b[38;5;124;03m\"\"\"Execute the coroutine and return the result.\u001b[39;00m\n\u001b[1;32m    162\u001b[0m \n\u001b[1;32m    163\u001b[0m \u001b[38;5;124;03mThis function runs the passed coroutine, taking care of\u001b[39;00m\n\u001b[0;32m   (...)\u001b[0m\n\u001b[1;32m    186\u001b[0m \u001b[38;5;124;03m    asyncio.run(main())\u001b[39;00m\n\u001b[1;32m    187\u001b[0m \u001b[38;5;124;03m\"\"\"\u001b[39;00m\n\u001b[1;32m    188\u001b[0m \u001b[38;5;28;01mif\u001b[39;00m events\u001b[38;5;241m.\u001b[39m_get_running_loop() \u001b[38;5;129;01mis\u001b[39;00m \u001b[38;5;129;01mnot\u001b[39;00m \u001b[38;5;28;01mNone\u001b[39;00m:\n\u001b[1;32m    189\u001b[0m     \u001b[38;5;66;03m# fail fast with short traceback\u001b[39;00m\n\u001b[0;32m--> 190\u001b[0m     \u001b[38;5;28;01mraise\u001b[39;00m \u001b[38;5;167;01mRuntimeError\u001b[39;00m(\n\u001b[1;32m    191\u001b[0m         \u001b[38;5;124m\"\u001b[39m\u001b[38;5;124masyncio.run() cannot be called from a running event loop\u001b[39m\u001b[38;5;124m\"\u001b[39m)\n\u001b[1;32m    193\u001b[0m \u001b[38;5;28;01mwith\u001b[39;00m Runner(debug\u001b[38;5;241m=\u001b[39mdebug, loop_factory\u001b[38;5;241m=\u001b[39mloop_factory) \u001b[38;5;28;01mas\u001b[39;00m runner:\n\u001b[1;32m    194\u001b[0m     \u001b[38;5;28;01mreturn\u001b[39;00m runner\u001b[38;5;241m.\u001b[39mrun(main)\n",
      "\u001b[0;31mRuntimeError\u001b[0m: asyncio.run() cannot be called from a running event loop"
     ]
    }
   ],
   "source": [
    "import uvicorn\n",
    "import asyncio\n",
    "\n",
    "asyncio.run(uvicorn.run(fastapi_app, host=\"0.0.0.0\", port=5000))\n",
    "# uvicorn.run(fastapi_app, host=\"0.0.0.0\", port=5000)"
   ]
  },
  {
   "cell_type": "code",
   "execution_count": 32,
   "metadata": {},
   "outputs": [
    {
     "ename": "JSONDecodeError",
     "evalue": "Expecting value: line 1 column 1 (char 0)",
     "output_type": "error",
     "traceback": [
      "\u001b[0;31m---------------------------------------------------------------------------\u001b[0m",
      "\u001b[0;31mJSONDecodeError\u001b[0m                           Traceback (most recent call last)",
      "File \u001b[0;32m~/workspace/ai/rag_advanced/RAG-chat-with-documents/.venv/lib/python3.12/site-packages/requests/models.py:974\u001b[0m, in \u001b[0;36mResponse.json\u001b[0;34m(self, **kwargs)\u001b[0m\n\u001b[1;32m    973\u001b[0m \u001b[38;5;28;01mtry\u001b[39;00m:\n\u001b[0;32m--> 974\u001b[0m     \u001b[38;5;28;01mreturn\u001b[39;00m \u001b[43mcomplexjson\u001b[49m\u001b[38;5;241;43m.\u001b[39;49m\u001b[43mloads\u001b[49m\u001b[43m(\u001b[49m\u001b[38;5;28;43mself\u001b[39;49m\u001b[38;5;241;43m.\u001b[39;49m\u001b[43mtext\u001b[49m\u001b[43m,\u001b[49m\u001b[43m \u001b[49m\u001b[38;5;241;43m*\u001b[39;49m\u001b[38;5;241;43m*\u001b[39;49m\u001b[43mkwargs\u001b[49m\u001b[43m)\u001b[49m\n\u001b[1;32m    975\u001b[0m \u001b[38;5;28;01mexcept\u001b[39;00m JSONDecodeError \u001b[38;5;28;01mas\u001b[39;00m e:\n\u001b[1;32m    976\u001b[0m     \u001b[38;5;66;03m# Catch JSON-related errors and raise as requests.JSONDecodeError\u001b[39;00m\n\u001b[1;32m    977\u001b[0m     \u001b[38;5;66;03m# This aliases json.JSONDecodeError and simplejson.JSONDecodeError\u001b[39;00m\n",
      "File \u001b[0;32m/opt/anaconda3/lib/python3.12/json/__init__.py:346\u001b[0m, in \u001b[0;36mloads\u001b[0;34m(s, cls, object_hook, parse_float, parse_int, parse_constant, object_pairs_hook, **kw)\u001b[0m\n\u001b[1;32m    343\u001b[0m \u001b[38;5;28;01mif\u001b[39;00m (\u001b[38;5;28mcls\u001b[39m \u001b[38;5;129;01mis\u001b[39;00m \u001b[38;5;28;01mNone\u001b[39;00m \u001b[38;5;129;01mand\u001b[39;00m object_hook \u001b[38;5;129;01mis\u001b[39;00m \u001b[38;5;28;01mNone\u001b[39;00m \u001b[38;5;129;01mand\u001b[39;00m\n\u001b[1;32m    344\u001b[0m         parse_int \u001b[38;5;129;01mis\u001b[39;00m \u001b[38;5;28;01mNone\u001b[39;00m \u001b[38;5;129;01mand\u001b[39;00m parse_float \u001b[38;5;129;01mis\u001b[39;00m \u001b[38;5;28;01mNone\u001b[39;00m \u001b[38;5;129;01mand\u001b[39;00m\n\u001b[1;32m    345\u001b[0m         parse_constant \u001b[38;5;129;01mis\u001b[39;00m \u001b[38;5;28;01mNone\u001b[39;00m \u001b[38;5;129;01mand\u001b[39;00m object_pairs_hook \u001b[38;5;129;01mis\u001b[39;00m \u001b[38;5;28;01mNone\u001b[39;00m \u001b[38;5;129;01mand\u001b[39;00m \u001b[38;5;129;01mnot\u001b[39;00m kw):\n\u001b[0;32m--> 346\u001b[0m     \u001b[38;5;28;01mreturn\u001b[39;00m \u001b[43m_default_decoder\u001b[49m\u001b[38;5;241;43m.\u001b[39;49m\u001b[43mdecode\u001b[49m\u001b[43m(\u001b[49m\u001b[43ms\u001b[49m\u001b[43m)\u001b[49m\n\u001b[1;32m    347\u001b[0m \u001b[38;5;28;01mif\u001b[39;00m \u001b[38;5;28mcls\u001b[39m \u001b[38;5;129;01mis\u001b[39;00m \u001b[38;5;28;01mNone\u001b[39;00m:\n",
      "File \u001b[0;32m/opt/anaconda3/lib/python3.12/json/decoder.py:337\u001b[0m, in \u001b[0;36mJSONDecoder.decode\u001b[0;34m(self, s, _w)\u001b[0m\n\u001b[1;32m    333\u001b[0m \u001b[38;5;250m\u001b[39m\u001b[38;5;124;03m\"\"\"Return the Python representation of ``s`` (a ``str`` instance\u001b[39;00m\n\u001b[1;32m    334\u001b[0m \u001b[38;5;124;03mcontaining a JSON document).\u001b[39;00m\n\u001b[1;32m    335\u001b[0m \n\u001b[1;32m    336\u001b[0m \u001b[38;5;124;03m\"\"\"\u001b[39;00m\n\u001b[0;32m--> 337\u001b[0m obj, end \u001b[38;5;241m=\u001b[39m \u001b[38;5;28;43mself\u001b[39;49m\u001b[38;5;241;43m.\u001b[39;49m\u001b[43mraw_decode\u001b[49m\u001b[43m(\u001b[49m\u001b[43ms\u001b[49m\u001b[43m,\u001b[49m\u001b[43m \u001b[49m\u001b[43midx\u001b[49m\u001b[38;5;241;43m=\u001b[39;49m\u001b[43m_w\u001b[49m\u001b[43m(\u001b[49m\u001b[43ms\u001b[49m\u001b[43m,\u001b[49m\u001b[43m \u001b[49m\u001b[38;5;241;43m0\u001b[39;49m\u001b[43m)\u001b[49m\u001b[38;5;241;43m.\u001b[39;49m\u001b[43mend\u001b[49m\u001b[43m(\u001b[49m\u001b[43m)\u001b[49m\u001b[43m)\u001b[49m\n\u001b[1;32m    338\u001b[0m end \u001b[38;5;241m=\u001b[39m _w(s, end)\u001b[38;5;241m.\u001b[39mend()\n",
      "File \u001b[0;32m/opt/anaconda3/lib/python3.12/json/decoder.py:355\u001b[0m, in \u001b[0;36mJSONDecoder.raw_decode\u001b[0;34m(self, s, idx)\u001b[0m\n\u001b[1;32m    354\u001b[0m \u001b[38;5;28;01mexcept\u001b[39;00m \u001b[38;5;167;01mStopIteration\u001b[39;00m \u001b[38;5;28;01mas\u001b[39;00m err:\n\u001b[0;32m--> 355\u001b[0m     \u001b[38;5;28;01mraise\u001b[39;00m JSONDecodeError(\u001b[38;5;124m\"\u001b[39m\u001b[38;5;124mExpecting value\u001b[39m\u001b[38;5;124m\"\u001b[39m, s, err\u001b[38;5;241m.\u001b[39mvalue) \u001b[38;5;28;01mfrom\u001b[39;00m \u001b[38;5;28;01mNone\u001b[39;00m\n\u001b[1;32m    356\u001b[0m \u001b[38;5;28;01mreturn\u001b[39;00m obj, end\n",
      "\u001b[0;31mJSONDecodeError\u001b[0m: Expecting value: line 1 column 1 (char 0)",
      "\nDuring handling of the above exception, another exception occurred:\n",
      "\u001b[0;31mJSONDecodeError\u001b[0m                           Traceback (most recent call last)",
      "Cell \u001b[0;32mIn[32], line 6\u001b[0m\n\u001b[1;32m      4\u001b[0m inputs \u001b[38;5;241m=\u001b[39m {\u001b[38;5;124m\"\u001b[39m\u001b[38;5;124minput\u001b[39m\u001b[38;5;124m\"\u001b[39m: \u001b[38;5;124m\"\u001b[39m\u001b[38;5;124m한국의 대통령은 누구야?\u001b[39m\u001b[38;5;124m\"\u001b[39m}\n\u001b[1;32m      5\u001b[0m response \u001b[38;5;241m=\u001b[39m requests\u001b[38;5;241m.\u001b[39mpost(\u001b[38;5;124m\"\u001b[39m\u001b[38;5;124mhttp://localhost:8000/invoke\u001b[39m\u001b[38;5;124m\"\u001b[39m, json\u001b[38;5;241m=\u001b[39minputs)\n\u001b[0;32m----> 6\u001b[0m result \u001b[38;5;241m=\u001b[39m \u001b[43mresponse\u001b[49m\u001b[38;5;241;43m.\u001b[39;49m\u001b[43mjson\u001b[49m\u001b[43m(\u001b[49m\u001b[43m)\u001b[49m\n\u001b[1;32m      7\u001b[0m \u001b[38;5;28mprint\u001b[39m(result[\u001b[38;5;124m\"\u001b[39m\u001b[38;5;124moutput\u001b[39m\u001b[38;5;124m\"\u001b[39m])\n",
      "File \u001b[0;32m~/workspace/ai/rag_advanced/RAG-chat-with-documents/.venv/lib/python3.12/site-packages/requests/models.py:978\u001b[0m, in \u001b[0;36mResponse.json\u001b[0;34m(self, **kwargs)\u001b[0m\n\u001b[1;32m    974\u001b[0m     \u001b[38;5;28;01mreturn\u001b[39;00m complexjson\u001b[38;5;241m.\u001b[39mloads(\u001b[38;5;28mself\u001b[39m\u001b[38;5;241m.\u001b[39mtext, \u001b[38;5;241m*\u001b[39m\u001b[38;5;241m*\u001b[39mkwargs)\n\u001b[1;32m    975\u001b[0m \u001b[38;5;28;01mexcept\u001b[39;00m JSONDecodeError \u001b[38;5;28;01mas\u001b[39;00m e:\n\u001b[1;32m    976\u001b[0m     \u001b[38;5;66;03m# Catch JSON-related errors and raise as requests.JSONDecodeError\u001b[39;00m\n\u001b[1;32m    977\u001b[0m     \u001b[38;5;66;03m# This aliases json.JSONDecodeError and simplejson.JSONDecodeError\u001b[39;00m\n\u001b[0;32m--> 978\u001b[0m     \u001b[38;5;28;01mraise\u001b[39;00m RequestsJSONDecodeError(e\u001b[38;5;241m.\u001b[39mmsg, e\u001b[38;5;241m.\u001b[39mdoc, e\u001b[38;5;241m.\u001b[39mpos)\n",
      "\u001b[0;31mJSONDecodeError\u001b[0m: Expecting value: line 1 column 1 (char 0)"
     ]
    }
   ],
   "source": [
    "import requests\n",
    "import json\n",
    "\n",
    "inputs = {\"input\": \"한국의 대통령은 누구야?\", \"confi\"}\n",
    "response = requests.post(\"http://localhost:8000/invoke\", json=inputs)\n",
    "result = response.json()\n",
    "print(result[\"output\"])"
   ]
  },
  {
   "cell_type": "code",
   "execution_count": 33,
   "metadata": {},
   "outputs": [
    {
     "name": "stdout",
     "output_type": "stream",
     "text": [
      "Requirement already satisfied: langgraph-sdk in ./.venv/lib/python3.12/site-packages (0.1.36)\n",
      "Requirement already satisfied: httpx>=0.25.2 in ./.venv/lib/python3.12/site-packages (from langgraph-sdk) (0.27.2)\n",
      "Requirement already satisfied: httpx-sse>=0.4.0 in ./.venv/lib/python3.12/site-packages (from langgraph-sdk) (0.4.0)\n",
      "Requirement already satisfied: orjson>=3.10.1 in ./.venv/lib/python3.12/site-packages (from langgraph-sdk) (3.10.11)\n",
      "Requirement already satisfied: anyio in ./.venv/lib/python3.12/site-packages (from httpx>=0.25.2->langgraph-sdk) (4.6.2.post1)\n",
      "Requirement already satisfied: certifi in ./.venv/lib/python3.12/site-packages (from httpx>=0.25.2->langgraph-sdk) (2024.8.30)\n",
      "Requirement already satisfied: httpcore==1.* in ./.venv/lib/python3.12/site-packages (from httpx>=0.25.2->langgraph-sdk) (1.0.6)\n",
      "Requirement already satisfied: idna in ./.venv/lib/python3.12/site-packages (from httpx>=0.25.2->langgraph-sdk) (3.10)\n",
      "Requirement already satisfied: sniffio in ./.venv/lib/python3.12/site-packages (from httpx>=0.25.2->langgraph-sdk) (1.3.1)\n",
      "Requirement already satisfied: h11<0.15,>=0.13 in ./.venv/lib/python3.12/site-packages (from httpcore==1.*->httpx>=0.25.2->langgraph-sdk) (0.14.0)\n",
      "Note: you may need to restart the kernel to use updated packages.\n"
     ]
    }
   ],
   "source": [
    "%pip install langgraph-sdk"
   ]
  },
  {
   "cell_type": "code",
   "execution_count": 35,
   "metadata": {},
   "outputs": [
    {
     "name": "stdout",
     "output_type": "stream",
     "text": [
      "Receiving new event of type: metadata...\n",
      "{'run_id': '1efaa74e-75de-6bff-bb7e-e41dccceed76', 'attempt': 1}\n",
      "\n",
      "\n",
      "\n",
      "Receiving new event of type: updates...\n",
      "{'supervisor': {'next': 'customer_care'}}\n",
      "\n",
      "\n",
      "\n",
      "Receiving new event of type: updates...\n",
      "{'customer_care': {'messages': 'messages: What is LangGraph? - agent: customer_care_agent'}}\n",
      "\n",
      "\n",
      "\n"
     ]
    }
   ],
   "source": [
    "from langgraph_sdk import get_client\n",
    "\n",
    "client = get_client(url=\"http://localhost:60859\")\n",
    "\n",
    "async for chunk in client.runs.stream(\n",
    "    None,  # Threadless run\n",
    "    \"agent\", # Name of assistant. Defined in langgraph.json.\n",
    "    input={\n",
    "        \"messages\": [{\n",
    "            \"role\": \"human\",\n",
    "            \"content\": \"What is LangGraph?\",\n",
    "        }],\n",
    "    },\n",
    "    stream_mode=\"updates\",\n",
    "):\n",
    "    print(f\"Receiving new event of type: {chunk.event}...\")\n",
    "    print(chunk.data)\n",
    "    print(\"\\n\\n\")"
   ]
  },
  {
   "cell_type": "code",
   "execution_count": null,
   "metadata": {},
   "outputs": [],
   "source": [
    "from langgraph_sdk import get_client\n",
    "\n",
    "client = get_client(url=\"http://localhost:63408\")\n",
    "# Using the graph deployed with the name \"agent\"\n",
    "graph_name = \"agent\"\n",
    "res = client.assistants.get(graph_name)\n",
    "res"
   ]
  }
 ],
 "metadata": {
  "kernelspec": {
   "display_name": ".venv",
   "language": "python",
   "name": "python3"
  },
  "language_info": {
   "codemirror_mode": {
    "name": "ipython",
    "version": 3
   },
   "file_extension": ".py",
   "mimetype": "text/x-python",
   "name": "python",
   "nbconvert_exporter": "python",
   "pygments_lexer": "ipython3",
   "version": "3.12.7"
  }
 },
 "nbformat": 4,
 "nbformat_minor": 2
}
